{
 "cells": [
  {
   "cell_type": "code",
   "execution_count": null,
   "metadata": {},
   "outputs": [],
   "source": [
    "from PDEFind_class_online import PDE_Findclass\n",
    "import time, glob, os, pdb\n",
    "import numpy as np\n",
    "import matplotlib.pyplot as plt\n",
    "from IPython.display import set_matplotlib_formats\n",
    "set_matplotlib_formats('png', 'pdf')\n",
    "from model_selection_IP3 import ODE_sim,learned_RHS_ODE\n",
    "from PDE_FIND3 import print_pde\n",
    "from mpl_toolkits.axes_grid.inset_locator import InsetPosition\n",
    "\n",
    "#increase font size throughout\n",
    "font = {'size'   : 20}\n",
    "plt.rc('font', **font)"
   ]
  },
  {
   "cell_type": "markdown",
   "metadata": {},
   "source": [
    "# Example: learning equations for one dataset"
   ]
  },
  {
   "cell_type": "code",
   "execution_count": null,
   "metadata": {},
   "outputs": [],
   "source": [
    "# growth, death terms\n",
    "rp = 0.001\n",
    "rd = 0\n",
    "\n",
    "dataset = [\"logistic_ABM_sim_rp_\"+str(rp)+\"_rd_\"+str(rd)+\"_real50\"]"
   ]
  },
  {
   "cell_type": "code",
   "execution_count": null,
   "metadata": {},
   "outputs": [],
   "source": [
    "#PDE-FIND values\n",
    "#Where data is stored\n",
    "data_dir = \"../data/\"\n",
    "#Additional name in filenames\n",
    "comp_str = \"\"\n",
    "model_name = \"\"\n",
    "\n",
    "#percentage of training, testing points\n",
    "trainPerc = 0.5\n",
    "valPerc = 0.5\n",
    "\n",
    "#degree of library\n",
    "deg = 4\n",
    "\n",
    "#Learning algorithm\n",
    "algo_name = 'Greedy'\n",
    "\n",
    "#pruning percentage\n",
    "prune_level = 0\n",
    "\n",
    "num_eqns = 3\n",
    "#save_learned_eqns = True\n",
    "#save_xi = True\n",
    "#save_learned_xi = True\n",
    "\n",
    "#number of equations to learn\n",
    "reals = 10"
   ]
  },
  {
   "cell_type": "markdown",
   "metadata": {},
   "source": [
    "## Perform EQL Pipeline"
   ]
  },
  {
   "cell_type": "code",
   "execution_count": null,
   "metadata": {
    "scrolled": true
   },
   "outputs": [],
   "source": [
    "pf = PDE_Findclass(dataset,\n",
    "                   comp_str,\n",
    "                   model_name,\n",
    "                   data_dir=data_dir,\n",
    "                   reals=reals,\n",
    "                   trainPerc = trainPerc,\n",
    "                   valPerc = valPerc,\n",
    "                   deg=deg,\n",
    "                   prune_level = prune_level,\n",
    "                   num_eqns=num_eqns,\n",
    "                   algo_name = algo_name)\n",
    "\n",
    "#Solve for xi for $real train-val splits\n",
    "pf.train_val_ODEFind()\n",
    "\n",
    "print(\"\")\n",
    "\n",
    "#determine which equation form is most-commonly recovered\n",
    "pf.list_common_eqns()"
   ]
  },
  {
   "cell_type": "markdown",
   "metadata": {},
   "source": [
    "## Plot learned equations against ABM data"
   ]
  },
  {
   "cell_type": "code",
   "execution_count": null,
   "metadata": {
    "scrolled": false
   },
   "outputs": [],
   "source": [
    "#Learned model\n",
    "y_inferred = ODE_sim(pf.inferred_xi[0],learned_RHS_ODE,pf.t,np.array([0.05]),description=pf.description,deg=deg)\n",
    "#Mean-field model\n",
    "y_MF = ODE_sim(np.array([rp-rd,-rp]),learned_RHS_ODE,pf.t,np.array([0.05]),description=['C^1','C^2'],deg=2)\n",
    "\n",
    "#plot\n",
    "fig = plt.figure()\n",
    "ax = fig.add_subplot(111)\n",
    "ax.plot(pf.t*(rp-rd),y_MF.T,'k',label = \"MF Model\")\n",
    "ax.plot(pf.t*(rp-rd),y_inferred.T,'r--',label=\"Learned Model\")\n",
    "ax.plot(pf.t[::4]*(rp-rd),pf.y[::4],'b.',label = \"ABM Data\",markersize=8)\n",
    "\n",
    "#Axes\n",
    "plt.legend(loc=4)\n",
    "ax.set_title(\"$P_p$ = \" +str(rp)+\", $P_d$ = \" +str(rd))\n",
    "ax.set_xlabel(\"Time ($T$, Nondimensionalized)\")\n",
    "ax.set_ylabel(\"Density\")\n",
    "\n"
   ]
  },
  {
   "cell_type": "markdown",
   "metadata": {},
   "source": [
    "## Now do the same for several parameter values"
   ]
  },
  {
   "cell_type": "code",
   "execution_count": null,
   "metadata": {
    "scrolled": false
   },
   "outputs": [],
   "source": [
    "# growth, death terms\n",
    "fontsize=15\n",
    "rp_vec = [0.01,0.05,0.1,0.50]\n",
    "\n",
    "## Initialize summary lists list of learned xi vectors\n",
    "xi_learned = []\n",
    "#list of mean squared error (MSE) between Mean-field model and ABM data\n",
    "MF_MSE = []\n",
    "#list of mean squared error (MSE) between learned model and ABM data\n",
    "learned_MSE = []\n",
    "\n",
    "#counter\n",
    "count = 1\n",
    "\n",
    "for rp in rp_vec:\n",
    "    rd = rp/2.0\n",
    "\n",
    "    dataset = [\"logistic_ABM_sim_rp_\"+str(rp)+\"_rd_\"+str(rd)+\"_real50\"]\n",
    "\n",
    "    #Run pipeline\n",
    "    pf = PDE_Findclass(dataset,\n",
    "                   comp_str,\n",
    "                   model_name,\n",
    "                   data_dir=data_dir,\n",
    "                   reals=reals,\n",
    "                   trainPerc = trainPerc,\n",
    "                   valPerc = valPerc,\n",
    "                   deg=deg,\n",
    "                   prune_level = prune_level,\n",
    "                   num_eqns=num_eqns,\n",
    "                   algo_name = algo_name)\n",
    "\n",
    "\n",
    "    pf.train_val_ODEFind()\n",
    "    pf.list_common_eqns()\n",
    "\n",
    "    #Simulate mean-field and learned equations\n",
    "    y_inferred = ODE_sim(pf.inferred_xi[0],learned_RHS_ODE,pf.t,np.array([0.05]),description=pf.description,deg=deg)\n",
    "    y_MF = ODE_sim(np.array([rp-rd,-rp]),learned_RHS_ODE,pf.t,np.array([0.05]),description=['C^1','C^2'],deg=2)\n",
    "\n",
    "    #plot ABM data, learned model, mean-field model\n",
    "    fig = plt.figure(figsize=(9/2.0,6.5/2.0))\n",
    "    ax = fig.add_subplot(1,1,1)\n",
    "    ax.plot(pf.t*(rp-rd),y_MF.T,'k',linewidth=2,label = \"MF Model\")\n",
    "    ax.plot(pf.t[::4]*(rp-rd),pf.y[::4],'b.-',label = \"ABM Data\",markersize=7,linewidth=2)\n",
    "    ax.plot(pf.t*(rp-rd),y_inferred.T,'r--',linewidth=2,label=\"Learned Model\")\n",
    "\n",
    "    #Format figure\n",
    "    ax.set_xticks(np.linspace(0,20,5))\n",
    "    ax.set_title(\"$P_p$ = \" +str(rp),fontsize=fontsize)#, $P_d$ = \" +str(rd)\n",
    "    if count > 2:\n",
    "        ax.set_xlabel(\"Time ($T$)\",fontsize=fontsize)\n",
    "    else:\n",
    "        ax.set_xticks([])\n",
    "    if count % 2 == 1:\n",
    "        ax.set_ylabel(\"Density\",fontsize=fontsize)\n",
    "\n",
    "    #Include inset of per-capita growth function\n",
    "    ax2 = plt.axes([0,0,1,1])\n",
    "    # Manually set the position and relative size of the inset axes within ax1\n",
    "    ip = InsetPosition(ax, [0.57,0.125,0.4,0.4])\n",
    "    ax2.set_axes_locator(ip)\n",
    "\n",
    "    K = (rp-rd)/rp\n",
    "    u_norm = np.linspace(1e-16,K,50)\n",
    "\n",
    "    def y_MF_G(u):\n",
    "        return ((rp-rd)*u-rp*u**2)/(rp-rd)\n",
    "\n",
    "    ax2.plot(u_norm/K,y_MF_G(u_norm)/u_norm,label=\"MF Model\",linewidth=2,color=\"k\")\n",
    "\n",
    "    xi = pf.inferred_xi[0]\n",
    "\n",
    "    def y_learned_G(u):\n",
    "        return (xi[0]*u + xi[1]*u**2 + xi[2]*u**3 + xi[3]*u**4)/(rp-rd)\n",
    "    ax2.plot(u_norm/K,y_learned_G(u_norm)/u_norm,'r--',linewidth=2,label=\"Learned Model, $P_p$ = \" + str(rp))\n",
    "\n",
    "    ax2.set_xlim([-.01,1.01])\n",
    "    ax2.set_ylim([0,1.05])\n",
    "    ax2.set_title(\"$\\mathcal{G\\ (C)}$\")\n",
    "    ax2.set_xticks([0,1.0])\n",
    "    ax2.set_xticklabels(['0','K'])\n",
    "    ax2.set_yticks([0,1.0])\n",
    "    ax2.set_yticklabels(['0','$P_p-P_d$'])\n",
    "    \n",
    "    plt.subplots_adjust(left=0.15,bottom=0.16,top=0.9,right = 0.99)\n",
    "    \n",
    "    #plt.savefig(\"case_study_1_BMD_comparison_\"+str(count)+\".pdf\",format=\"pdf\")\n",
    "    \n",
    "    #Save MSEs, learned xi vector\n",
    "    xi_learned.append(pf.inferred_xi[0])\n",
    "    MF_MSE.append(np.linalg.norm(np.squeeze(y_MF) - pf.y)/len(pf.y))\n",
    "    learned_MSE.append(np.linalg.norm(np.squeeze(y_inferred) - pf.y)/len(pf.y))\n",
    "\n",
    "    count+=1"
   ]
  },
  {
   "cell_type": "markdown",
   "metadata": {},
   "source": [
    "## Table of inferred Equations"
   ]
  },
  {
   "cell_type": "code",
   "execution_count": null,
   "metadata": {},
   "outputs": [],
   "source": [
    "##Creates table that can be copied and pasted into a LaTeX table environment.\n",
    "\n",
    "print('\\\\begin{tabular}{|c|c|l|l|}')\n",
    "print('    \\\\hline')\n",
    "print('    $P_p$ & \\\\ $P_d$ & \\\\ \\\\multicolumn{1}{c}{Mean-field Model (MSE)} & \\\\multicolumn{1}{c}{Learned Model (MSE)} \\\\\\\\ ')\n",
    "print('    \\\\hline')\n",
    "\n",
    "for i,rp in enumerate(rp_vec):\n",
    "    rd = rp/2.0\n",
    "\n",
    "    learned = print_pde(xi_learned[i][:,np.newaxis],[\"C\",\"C^2\",\"C^3\",\"C^4\"],ut=\"\\\\nicefrac{\\\\text{d}C}{\\\\text{d}t}\")\n",
    "    MF = print_pde(np.array([rp-rd,-rp])[:,np.newaxis],[\"C\",\"C^2\"],ut=\"\\\\nicefrac{\\\\text{d}C}{\\\\text{d}t}\")\n",
    "\n",
    "    print(\"    $\" + str(rp) + \"$ & $\" + str(rd) + \"$ & $\" + MF + \"$ (\"+str(round(MF_MSE[i],4))+\") & $\" + learned +\"$ (\"+str(round(learned_MSE[i],4))+\") \\\\\\\\\")\n",
    "    print(\"    \\\\hline\")\n",
    "print('\\\\end{tabular}')\n"
   ]
  },
  {
   "cell_type": "code",
   "execution_count": null,
   "metadata": {},
   "outputs": [],
   "source": []
  }
 ],
 "metadata": {
  "kernelspec": {
   "display_name": "Python 3",
   "language": "python",
   "name": "python3"
  },
  "language_info": {
   "codemirror_mode": {
    "name": "ipython",
    "version": 3
   },
   "file_extension": ".py",
   "mimetype": "text/x-python",
   "name": "python",
   "nbconvert_exporter": "python",
   "pygments_lexer": "ipython3",
   "version": "3.7.3"
  }
 },
 "nbformat": 4,
 "nbformat_minor": 2
}
