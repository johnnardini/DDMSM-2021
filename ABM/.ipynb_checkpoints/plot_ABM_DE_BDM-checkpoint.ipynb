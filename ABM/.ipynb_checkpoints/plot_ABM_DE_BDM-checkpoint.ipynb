{
 "cells": [
  {
   "cell_type": "code",
   "execution_count": 1,
   "metadata": {},
   "outputs": [],
   "source": [
    "import math\n",
    "import random\n",
    "import numpy as np\n",
    "import matplotlib.pyplot as plt\n",
    "import pdb\n",
    "from scipy import integrate\n",
    "import matplotlib as mpl\n",
    "from scipy import interpolate\n",
    "import time\n",
    "\n",
    "from ABM_package import *"
   ]
  },
  {
   "cell_type": "code",
   "execution_count": null,
   "metadata": {},
   "outputs": [],
   "source": [
    "#parameter values\n",
    "\n",
    "rp = 0.5\n",
    "rd = 0.125\n",
    "rm = 1.0\n",
    "\n",
    "A_out,t_out,plot_list = BDM_ABM(rp,rd,rm,T_end=15.0)"
   ]
  },
  {
   "cell_type": "code",
   "execution_count": null,
   "metadata": {},
   "outputs": [],
   "source": [
    "#to aid in plotting\n",
    "plot_ind = [2,7,15]\n",
    "cmaplist = [(1.0,1.0,1.0,1.0),(0.0,0.0,1.0,1.0)]\n",
    "cmap = mpl.colors.LinearSegmentedColormap.from_list(\n",
    "    'Custom cmap', cmaplist, N = 2)\n",
    "font = {'size'   : 13}\n",
    "plt.rc('font', **font)\n",
    "\n",
    "#initialize figure\n",
    "fig = plt.figure(figsize=(12,3))\n",
    "ax = fig.add_subplot(1,4,4,adjustable='box')\n",
    "\n",
    "#mean-field model params\n",
    "r = rp-rd\n",
    "K = r/rp\n",
    "c0 = 0.05\n",
    "logist = K*c0*(np.e**(r*t_out))/(K + c0*(np.e**(r*t_out)-1))\n",
    "\n",
    "#plot logistic model and ABM output\n",
    "ax.plot(t_out*(rp-rd),A_out/plot_list[0].size,'.')\n",
    "ax.plot(t_out*(rp-rd),logist)\n",
    "\n",
    "#plot individual ABM snapshots\n",
    "for i in np.arange(3):\n",
    "\n",
    "    ax = fig.add_subplot(1,4,1+i,adjustable='box')\n",
    "    ax.matshow(plot_list[plot_ind[i]],cmap=cmap,vmin=0,vmax=1)\n",
    "    ax.set_xticks([])\n",
    "    ax.set_yticks([])\n",
    "    ax.set_title(\"$T$ = \" + str(round(t_out[plot_ind[i]*5-1]*(rp-rd),1)))\n",
    "\n",
    "    if i == 0:\n",
    "        ax.set_ylabel(\"$P_p$ = \"+str(rp)+\", $P_d$ = \"+str(rd))\n",
    "\n",
    "\n"
   ]
  },
  {
   "cell_type": "code",
   "execution_count": 2,
   "metadata": {},
   "outputs": [],
   "source": [
    "def finite_diff(C,dt):\n",
    "\tdCdt = np.zeros(C.shape)\n",
    "\tdCdt[1:-1] = (C[2:] - C[:-2])/(2*dt)\n",
    "\tdCdt[0] = (C[1] - C[0])/dt\n",
    "\tdCdt[-1] = (C[-1] - C[-2])/dt\n",
    "\n",
    "\treturn dCdt"
   ]
  },
  {
   "cell_type": "code",
   "execution_count": 3,
   "metadata": {},
   "outputs": [],
   "source": [
    "rp_vec = [0.5]#[0.01,0.05,0.1,0.50]\n",
    "reals = 1\n",
    "\n",
    "rm = 1.0\n",
    "\n",
    "for rp in rp_vec:\n",
    "    \n",
    "    rd = rp/2.0\n",
    "    \n",
    "    ABM_sims = []\n",
    "    \n",
    "    for i in np.arange(reals):\n",
    "        ABM_sim_tmp,t_out,plot_list = BDM_ABM(rp,rd,rm,T_end=15.0)\n",
    "        \n",
    "        dt = t_out[1] - t_out[0]\n",
    "        \n",
    "        ABM_sims.append(ABM_sim_tmp)\n",
    "    \n",
    "    t = t_out[:,np.newaxis]\n",
    "    ABM = np.mean(np.array(ABM_sims),axis=0)[:,np.newaxis]\n",
    "    ABM_t = finite_diff(ABM,dt)\n",
    "        \n",
    "    data = {}\n",
    "    data['inputs'] = t\n",
    "    data['outputs'] = ABM\n",
    "    data['derivative_names'] = ['u','u_t']\n",
    "    data['rp'] = rp\n",
    "    data['rd'] = rd\n",
    "    data['rm'] = rm\n",
    "    #data['F'] = mat['F']\n",
    "\n",
    "    data['variables'] = [t,ABM,ABM_t]\n",
    "    data['variable_names'] = ['x_1','u','u_x1']\n",
    "\n",
    "    '''print(file[:-4]+\".npy\")\n",
    "    np.save(file[:-4]+\".npy\",data)'''\n"
   ]
  },
  {
   "cell_type": "code",
   "execution_count": null,
   "metadata": {},
   "outputs": [],
   "source": []
  }
 ],
 "metadata": {
  "kernelspec": {
   "display_name": "Python 3",
   "language": "python",
   "name": "python3"
  },
  "language_info": {
   "codemirror_mode": {
    "name": "ipython",
    "version": 3
   },
   "file_extension": ".py",
   "mimetype": "text/x-python",
   "name": "python",
   "nbconvert_exporter": "python",
   "pygments_lexer": "ipython3",
   "version": "3.7.3"
  }
 },
 "nbformat": 4,
 "nbformat_minor": 2
}
