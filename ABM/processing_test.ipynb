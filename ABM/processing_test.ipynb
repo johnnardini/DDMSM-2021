{
 "cells": [
  {
   "cell_type": "code",
   "execution_count": 6,
   "metadata": {},
   "outputs": [
    {
     "name": "stdout",
     "output_type": "stream",
     "text": [
      "[1, 4, 9]\n"
     ]
    }
   ],
   "source": [
    "from multiprocessing import Pool\n",
    "import multiprocessing \n",
    "import time , os\n",
    "\n",
    "def f(x):\n",
    "    return x*x\n",
    "\n",
    "\n",
    "with Pool(5) as p:\n",
    "    print(p.map(f, [1, 2, 3]))"
   ]
  },
  {
   "cell_type": "code",
   "execution_count": 16,
   "metadata": {},
   "outputs": [
    {
     "name": "stdout",
     "output_type": "stream",
     "text": [
      "Square: 100\n",
      "Cube: 1000\n",
      "0.020973920822143555\n"
     ]
    }
   ],
   "source": [
    "def print_cube(num): \n",
    "    \"\"\" \n",
    "    function to print cube of given num \n",
    "    \"\"\"\n",
    "    print(\"Cube: {}\".format(num * num * num)) \n",
    "  \n",
    "def print_square(num): \n",
    "    \"\"\" \n",
    "    function to print square of given num \n",
    "    \"\"\"\n",
    "    print(\"Square: {}\".format(num * num)) \n",
    "  \n",
    "start_time = time.time()\n",
    "\n",
    "# creating processes \n",
    "p1 = multiprocessing.Process(target=print_square, args=(10,)) \n",
    "p2 = multiprocessing.Process(target=print_cube, args=(10, )) \n",
    "\n",
    "# starting process 1 \n",
    "p1.start() \n",
    "# starting process 2 \n",
    "p2.start() \n",
    "\n",
    "# wait until process 1 is finished \n",
    "p1.join() \n",
    "# wait until process 2 is finished \n",
    "p2.join() \n",
    "\n",
    "\n",
    "'''p2 = multiprocessing.Process(target=print_square, args=(10,)) \n",
    "#p2 = multiprocessing.Process(target=print_cube, args=(10, )) \n",
    "\n",
    "# starting process 1 \n",
    "p2.start() \n",
    "# starting process 2 \n",
    "#p2.start() \n",
    "\n",
    "# wait until process 1 is finished \n",
    "p2.join() \n",
    "'''\n",
    "\n",
    "\n",
    "print(time.time() - start_time)"
   ]
  },
  {
   "cell_type": "code",
   "execution_count": 10,
   "metadata": {},
   "outputs": [
    {
     "name": "stdout",
     "output_type": "stream",
     "text": [
      "ID of main process: 55733\n",
      "ID of process running worker1: 58429\n",
      "ID of process running worker2: 58430\n",
      "ID of process p1: 58429\n",
      "ID of process p2: 58430\n",
      "Both processes finished execution!\n",
      "Process p1 is alive: False\n",
      "Process p2 is alive: False\n"
     ]
    }
   ],
   "source": [
    "def worker1(): \n",
    "    # printing process id \n",
    "    print(\"ID of process running worker1: {}\".format(os.getpid())) \n",
    "  \n",
    "def worker2(): \n",
    "    # printing process id \n",
    "    print(\"ID of process running worker2: {}\".format(os.getpid())) \n",
    "  \n",
    "\n",
    "# printing main program process id \n",
    "print(\"ID of main process: {}\".format(os.getpid())) \n",
    "\n",
    "# creating processes \n",
    "p1 = multiprocessing.Process(target=worker1) \n",
    "p2 = multiprocessing.Process(target=worker2) \n",
    "\n",
    "# starting processes \n",
    "p1.start() \n",
    "p2.start() \n",
    "\n",
    "# process IDs \n",
    "print(\"ID of process p1: {}\".format(p1.pid)) \n",
    "print(\"ID of process p2: {}\".format(p2.pid)) \n",
    "\n",
    "# wait until processes are finished \n",
    "p1.join() \n",
    "p2.join() \n",
    "\n",
    "# both processes finished \n",
    "print(\"Both processes finished execution!\") \n",
    "\n",
    "# check if processes are alive \n",
    "print(\"Process p1 is alive: {}\".format(p1.is_alive())) \n",
    "print(\"Process p2 is alive: {}\".format(p2.is_alive()))\n"
   ]
  },
  {
   "cell_type": "code",
   "execution_count": null,
   "metadata": {},
   "outputs": [],
   "source": []
  }
 ],
 "metadata": {
  "kernelspec": {
   "display_name": "Python 3",
   "language": "python",
   "name": "python3"
  },
  "language_info": {
   "codemirror_mode": {
    "name": "ipython",
    "version": 3
   },
   "file_extension": ".py",
   "mimetype": "text/x-python",
   "name": "python",
   "nbconvert_exporter": "python",
   "pygments_lexer": "ipython3",
   "version": "3.7.3"
  }
 },
 "nbformat": 4,
 "nbformat_minor": 2
}
